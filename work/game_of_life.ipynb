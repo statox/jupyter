{
 "cells": [
  {
   "cell_type": "code",
   "execution_count": 1,
   "id": "1ee8b2a2-5c87-4a18-9625-c77cfef8102b",
   "metadata": {},
   "outputs": [],
   "source": [
    "import matplotlib as mpl\n",
    "import matplotlib.pyplot as plt\n",
    "from random import randint"
   ]
  },
  {
   "cell_type": "code",
   "execution_count": 2,
   "id": "b3dfe87c-cee2-469c-8cd9-e70cd8ec1e4c",
   "metadata": {},
   "outputs": [],
   "source": [
    "import copy\n",
    "\n",
    "def gol(g):\n",
    "    h = copy.deepcopy(g)\n",
    "    D = len(g)\n",
    "\n",
    "    for y, line in enumerate(g):\n",
    "        for x, val in enumerate(line):\n",
    "            alive_neighbors = 0\n",
    "\n",
    "            for dy in range(-1, 2):\n",
    "                for dx in range(-1, 2):\n",
    "                    alive_neighbors += g[(y+dy)%D][(x+dx)%D]\n",
    "            alive_neighbors -= val\n",
    "            h[y][x] = 1 if (val == 0 and alive_neighbors == 3) or (val == 1 and (alive_neighbors == 2 or alive_neighbors == 3)) else 0\n",
    "    return h"
   ]
  },
  {
   "cell_type": "code",
   "execution_count": null,
   "id": "3dcf2feb-72b6-420a-b7b5-9248b33a8d5f",
   "metadata": {
    "scrolled": true
   },
   "outputs": [],
   "source": [
    "import matplotlib.pylab as plt\n",
    "import pandas as pd\n",
    "import numpy as np\n",
    "import time\n",
    "from IPython import display\n",
    "%matplotlib inline\n",
    "\n",
    "D = 50\n",
    "\n",
    "iterations = 200\n",
    "g = [[randint(0,1) for _ in range(D)] for _ in range(D)]\n",
    "\n",
    "for _ in range(1000):\n",
    "    try:\n",
    "        plt.matshow(g)\n",
    "        g = gol(g)\n",
    "\n",
    "        display.display(plt.gcf())\n",
    "        display.clear_output(wait=True)\n",
    "        time.sleep(0.01)\n",
    "    except KeyboardInterrupt:\n",
    "        break"
   ]
  }
 ],
 "metadata": {
  "kernelspec": {
   "display_name": "statox_kernel",
   "language": "python",
   "name": "statox_kernel"
  },
  "language_info": {
   "codemirror_mode": {
    "name": "ipython",
    "version": 3
   },
   "file_extension": ".py",
   "mimetype": "text/x-python",
   "name": "python",
   "nbconvert_exporter": "python",
   "pygments_lexer": "ipython3",
   "version": "3.13.2"
  }
 },
 "nbformat": 4,
 "nbformat_minor": 5
}
