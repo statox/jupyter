{
 "cells": [
  {
   "cell_type": "code",
   "execution_count": 1,
   "id": "1ee8b2a2-5c87-4a18-9625-c77cfef8102b",
   "metadata": {},
   "outputs": [],
   "source": [
    "import matplotlib as mpl\n",
    "import matplotlib.pyplot as plt\n",
    "from random import randint"
   ]
  },
  {
   "cell_type": "code",
   "execution_count": 14,
   "id": "ac79113c-f049-43f1-afae-1ee42d233153",
   "metadata": {},
   "outputs": [],
   "source": [
    "def hash_2d_array(array):\n",
    "    # Convert each row to a tuple and then the whole array to a tuple of tuples\n",
    "    array_tuple = tuple(tuple(row) for row in array)\n",
    "    return hash(array_tuple)"
   ]
  },
  {
   "cell_type": "code",
   "execution_count": 20,
   "id": "b3dfe87c-cee2-469c-8cd9-e70cd8ec1e4c",
   "metadata": {},
   "outputs": [],
   "source": [
    "import copy\n",
    "\n",
    "mem = set()\n",
    "\n",
    "def check_loop(g):\n",
    "    hash = hash_2d_array(g)\n",
    "\n",
    "    if hash in mem:\n",
    "        return True\n",
    "\n",
    "    mem.add(hash)\n",
    "    return False\n",
    "\n",
    "def gol(g):\n",
    "    h = copy.deepcopy(g)\n",
    "    D = len(g)\n",
    "\n",
    "    for y, line in enumerate(g):\n",
    "        for x, val in enumerate(line):\n",
    "            alive_neighbors = 0\n",
    "\n",
    "            for dy in range(-1, 2):\n",
    "                for dx in range(-1, 2):\n",
    "                    alive_neighbors += g[(y+dy)%D][(x+dx)%D]\n",
    "            alive_neighbors -= val\n",
    "            h[y][x] = 1 if (val == 0 and alive_neighbors == 3) or (val == 1 and (alive_neighbors == 2 or alive_neighbors == 3)) else 0\n",
    "    return h"
   ]
  },
  {
   "cell_type": "code",
   "execution_count": null,
   "id": "3dcf2feb-72b6-420a-b7b5-9248b33a8d5f",
   "metadata": {},
   "outputs": [],
   "source": [
    "# Define colors to use for cells\n",
    "\n",
    "from matplotlib.colors import ListedColormap\n",
    "\n",
    "ALIVE=[.9, .7, .8]\n",
    "DEAD=[.1,.3,.2]\n",
    "\n",
    "cmap = ListedColormap([ALIVE, DEAD])\n",
    "\n",
    "# Use with\n",
    "# plt.matshow(g,cmap=cmap)"
   ]
  },
  {
   "cell_type": "code",
   "execution_count": null,
   "id": "0b513947-950d-4b20-a8c6-e18e81664357",
   "metadata": {
    "scrolled": true
   },
   "outputs": [
    {
     "data": {
      "image/png": "[encoded data removed]",
      "text/plain": [
       "<Figure size 480x480 with 1 Axes>"
      ]
     },
     "metadata": {},
     "output_type": "display_data"
    }
   ],
   "source": [
    "import matplotlib.pylab as plt\n",
    "import pandas as pd\n",
    "import numpy as np\n",
    "import time\n",
    "from IPython import display\n",
    "%matplotlib inline\n",
    "\n",
    "D = 20\n",
    "\n",
    "g = [[randint(0,1) for _ in range(D)] for _ in range(D)]\n",
    "plt.matshow(g,cmap=cmap)\n",
    "\n",
    "is_loop = False\n",
    "while not is_loop:\n",
    "    try:\n",
    "        g = gol(g)\n",
    "        is_loop = check_loop(g)\n",
    "\n",
    "        plt.matshow(g,cmap=cmap)\n",
    "\n",
    "        display.display(plt.gcf())\n",
    "        display.clear_output(wait=True)\n",
    "        time.sleep(0.01)\n",
    "    except KeyboardInterrupt:\n",
    "        break"
   ]
  },
  {
   "cell_type": "code",
   "execution_count": null,
   "id": "21e6be61-853b-4bab-94ea-e94ad5fb0783",
   "metadata": {},
   "outputs": [],
   "source": []
  }
 ],
 "metadata": {
  "kernelspec": {
   "display_name": "statox_kernel",
   "language": "python",
   "name": "statox_kernel"
  },
  "language_info": {
   "codemirror_mode": {
    "name": "ipython",
    "version": 3
   },
   "file_extension": ".py",
   "mimetype": "text/x-python",
   "name": "python",
   "nbconvert_exporter": "python",
   "pygments_lexer": "ipython3",
   "version": "3.13.2"
  }
 },
 "nbformat": 4,
 "nbformat_minor": 5
}
