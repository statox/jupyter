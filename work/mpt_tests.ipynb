{
 "cells": [
  {
   "cell_type": "code",
   "execution_count": 1,
   "id": "12a2dff4-3aad-424b-ae87-b66862da4bf9",
   "metadata": {},
   "outputs": [],
   "source": [
    "import matplotlib as mpl\n",
    "import matplotlib.pyplot as plt\n",
    "from random import randint"
   ]
  },
  {
   "cell_type": "code",
   "execution_count": 2,
   "id": "5d1072fd-0cd0-4da9-a21e-68625daed7f1",
   "metadata": {},
   "outputs": [],
   "source": [
    "#\n",
    "# Generate random 2d array\n",
    "#\n",
    "from random import randrange\n",
    "\n",
    "def get_data(D=20):\n",
    "    return [\n",
    "        [randrange(0, 255) for _ in range(D)]\n",
    "        for _ in range(D)\n",
    "    ]"
   ]
  },
  {
   "cell_type": "code",
   "execution_count": null,
   "id": "bab6b61d-9623-4bfa-bd2d-298e82b3a407",
   "metadata": {},
   "outputs": [],
   "source": [
    "m = get_data()\n",
    "\n",
    "plt.matshow(m)\n"
   ]
  },
  {
   "cell_type": "code",
   "execution_count": null,
   "id": "a625b29b-3fcf-4f85-b79e-fd5f54abbeae",
   "metadata": {},
   "outputs": [],
   "source": [
    "import matplotlib.pyplot as plt\n",
    "import numpy as np\n",
    "from matplotlib.animation import FuncAnimation\n",
    "from IPython.display import HTML\n",
    "\n",
    "# Use the inline backend for Jupyter Notebooks\n",
    "%matplotlib ipympl\n",
    "\n",
    "def get_data():\n",
    "    # Replace this with your actual data retrieval logic\n",
    "    print(\"get data\")\n",
    "    return np.random.randint(0, 100, (10, 10))\n",
    "\n",
    "fig, ax = plt.subplots()\n",
    "heatmap = ax.imshow(get_data(), cmap='viridis', interpolation='nearest')\n",
    "\n",
    "def update(frame):\n",
    "    data = get_data()\n",
    "    heatmap.set_array(data)  # Update the data in the heatmap\n",
    "    return [heatmap]\n",
    "\n",
    "ani = FuncAnimation(fig, update, frames=20, interval=50, blit=False)\n",
    "\n",
    "# Display the animation in the notebook\n",
    "# HTML(ani.to_jshtml())"
   ]
  },
  {
   "cell_type": "code",
   "execution_count": null,
   "id": "7424e37a-22bf-4f8c-9ecd-4be64e1603c9",
   "metadata": {},
   "outputs": [],
   "source": [
    "%matplotlib ipympl\n",
    "\n",
    "import matplotlib.pyplot as plt\n",
    "import numpy as np\n",
    "import time\n",
    "\n",
    "rng = np.random.default_rng()\n",
    "arr = rng.uniform(size=(5, 5))\n",
    "\n",
    "fig, ax = plt.subplots()\n",
    "im = ax.imshow(arr)\n",
    "\n",
    "for _ in range(20):\n",
    "    arr = rng.uniform(size=(5, 5))\n",
    "    im.set_data(arr)\n",
    "    plt.show()\n",
    "    time.sleep(0.1)"
   ]
  }
 ],
 "metadata": {
  "kernelspec": {
   "display_name": "statox_kernel",
   "language": "python",
   "name": "statox_kernel"
  },
  "language_info": {
   "codemirror_mode": {
    "name": "ipython",
    "version": 3
   },
   "file_extension": ".py",
   "mimetype": "text/x-python",
   "name": "python",
   "nbconvert_exporter": "python",
   "pygments_lexer": "ipython3",
   "version": "3.13.2"
  }
 },
 "nbformat": 4,
 "nbformat_minor": 5
}
